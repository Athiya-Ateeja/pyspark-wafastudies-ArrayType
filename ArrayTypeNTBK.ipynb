{
 "cells": [
  {
   "cell_type": "code",
   "execution_count": 0,
   "metadata": {
    "application/vnd.databricks.v1+cell": {
     "cellMetadata": {
      "byteLimit": 2048000,
      "rowLimit": 10000
     },
     "inputWidgets": {},
     "nuid": "5a0fe1c5-0a24-46a0-8458-271e4d4711dd",
     "showTitle": false,
     "title": ""
    }
   },
   "outputs": [
    {
     "output_type": "stream",
     "name": "stdout",
     "output_type": "stream",
     "text": [
      "+----+------------+\n|name|     numbers|\n+----+------------+\n| abc|   [1, 2, 3]|\n| def|[4, 5, 6, 7]|\n| ghi|  [8, 9, 10]|\n+----+------------+\n\nroot\n |-- name: string (nullable = true)\n |-- numbers: array (nullable = true)\n |    |-- element: long (containsNull = true)\n\n"
     ]
    }
   ],
   "source": [
    "data = [('abc',[1,2,3]),\n",
    "            ('def',[4,5,6,7]),\n",
    "            ('ghi',[8,9,10])]\n",
    "schema = ('name','numbers')\n",
    "df = spark.createDataFrame(data = data,schema = schema)\n",
    "df.show()\n",
    "df.printSchema()"
   ]
  },
  {
   "cell_type": "code",
   "execution_count": 0,
   "metadata": {
    "application/vnd.databricks.v1+cell": {
     "cellMetadata": {
      "byteLimit": 2048000,
      "rowLimit": 10000
     },
     "inputWidgets": {},
     "nuid": "0d0c709a-4024-45f7-9dc1-fb755a200d0e",
     "showTitle": false,
     "title": ""
    }
   },
   "outputs": [],
   "source": [
    "from pyspark.sql.types import StructType,StructField,StringType,ArrayType,IntegerType"
   ]
  },
  {
   "cell_type": "code",
   "execution_count": 0,
   "metadata": {
    "application/vnd.databricks.v1+cell": {
     "cellMetadata": {
      "byteLimit": 2048000,
      "rowLimit": 10000
     },
     "inputWidgets": {},
     "nuid": "71b6f358-f68b-49dc-ac13-7a379cf35535",
     "showTitle": false,
     "title": ""
    }
   },
   "outputs": [
    {
     "output_type": "stream",
     "name": "stdout",
     "output_type": "stream",
     "text": [
      "+----+------------+\n|name|     numbers|\n+----+------------+\n| abc|   [1, 2, 3]|\n| def|[4, 5, 6, 7]|\n| ghi|  [8, 9, 10]|\n+----+------------+\n\nroot\n |-- name: string (nullable = true)\n |-- numbers: array (nullable = true)\n |    |-- element: integer (containsNull = true)\n\n"
     ]
    }
   ],
   "source": [
    "schema = StructType([StructField(name = 'name',dataType = StringType()),\\\n",
    "                    StructField(name = 'numbers',dataType = ArrayType(IntegerType()))])\n",
    "df = spark.createDataFrame(data = data,schema = schema)\n",
    "df.show()\n",
    "df.printSchema()"
   ]
  },
  {
   "cell_type": "code",
   "execution_count": 0,
   "metadata": {
    "application/vnd.databricks.v1+cell": {
     "cellMetadata": {
      "byteLimit": 2048000,
      "rowLimit": 10000
     },
     "inputWidgets": {},
     "nuid": "2ffcdb55-bcab-47a4-9152-759653abf665",
     "showTitle": false,
     "title": ""
    }
   },
   "outputs": [
    {
     "output_type": "stream",
     "name": "stdout",
     "output_type": "stream",
     "text": [
      "+----+------------+-----------+\n|name|     numbers|FirstNumber|\n+----+------------+-----------+\n| abc|   [1, 2, 3]|          1|\n| def|[4, 5, 6, 7]|          4|\n| ghi|  [8, 9, 10]|          8|\n+----+------------+-----------+\n\n"
     ]
    }
   ],
   "source": [
    "df.withColumn(\"FirstNumber\",df.numbers[0]).show()"
   ]
  },
  {
   "cell_type": "code",
   "execution_count": 0,
   "metadata": {
    "application/vnd.databricks.v1+cell": {
     "cellMetadata": {
      "byteLimit": 2048000,
      "rowLimit": 10000
     },
     "inputWidgets": {},
     "nuid": "3135abaa-42a9-4f70-93ed-71ac5925f790",
     "showTitle": false,
     "title": ""
    }
   },
   "outputs": [
    {
     "output_type": "stream",
     "name": "stdout",
     "output_type": "stream",
     "text": [
      "+----+----+\n|num1|num2|\n+----+----+\n|   1|   2|\n|   3|   4|\n+----+----+\n\nroot\n |-- num1: long (nullable = true)\n |-- num2: long (nullable = true)\n\n"
     ]
    }
   ],
   "source": [
    "data = [(1,2),(3,4)]\n",
    "schema = ('num1','num2')\n",
    "df = spark.createDataFrame(data,schema)\n",
    "df.show()\n",
    "df.printSchema()"
   ]
  },
  {
   "cell_type": "code",
   "execution_count": 0,
   "metadata": {
    "application/vnd.databricks.v1+cell": {
     "cellMetadata": {
      "byteLimit": 2048000,
      "rowLimit": 10000
     },
     "inputWidgets": {},
     "nuid": "10f41a74-1652-46bc-b55c-cb6b35ef49f4",
     "showTitle": false,
     "title": ""
    }
   },
   "outputs": [],
   "source": [
    "from pyspark.sql.functions import array,col"
   ]
  },
  {
   "cell_type": "code",
   "execution_count": 0,
   "metadata": {
    "application/vnd.databricks.v1+cell": {
     "cellMetadata": {
      "byteLimit": 2048000,
      "rowLimit": 10000
     },
     "inputWidgets": {},
     "nuid": "1f1a0592-8583-430e-9d2e-f797c55dd6a0",
     "showTitle": false,
     "title": ""
    }
   },
   "outputs": [
    {
     "output_type": "stream",
     "name": "stdout",
     "output_type": "stream",
     "text": [
      "+----+----+-------+\n|num1|num2|numbers|\n+----+----+-------+\n|   1|   2| [1, 2]|\n|   3|   4| [3, 4]|\n+----+----+-------+\n\nroot\n |-- num1: long (nullable = true)\n |-- num2: long (nullable = true)\n |-- numbers: array (nullable = false)\n |    |-- element: long (containsNull = true)\n\n"
     ]
    }
   ],
   "source": [
    "df = df.withColumn(\"numbers\",array(col('num1'),col('num2')))\n",
    "df.show()\n",
    "df.printSchema()"
   ]
  },
  {
   "cell_type": "code",
   "execution_count": 0,
   "metadata": {
    "application/vnd.databricks.v1+cell": {
     "cellMetadata": {},
     "inputWidgets": {},
     "nuid": "34897781-d484-484f-953d-1ac1b243e8d2",
     "showTitle": false,
     "title": ""
    }
   },
   "outputs": [],
   "source": []
  }
 ],
 "metadata": {
  "application/vnd.databricks.v1+notebook": {
   "dashboards": [],
   "language": "python",
   "notebookMetadata": {
    "pythonIndentUnit": 4
   },
   "notebookName": "ArrayTypeNTBK",
   "widgets": {}
  }
 },
 "nbformat": 4,
 "nbformat_minor": 0
}
